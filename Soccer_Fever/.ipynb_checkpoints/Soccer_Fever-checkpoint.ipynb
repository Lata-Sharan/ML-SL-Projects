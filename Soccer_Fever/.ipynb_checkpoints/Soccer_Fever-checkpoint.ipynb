{
 "cells": [
  {
   "cell_type": "markdown",
   "id": "d65b8ebf",
   "metadata": {},
   "source": [
    "## Importing Libraries"
   ]
  },
  {
   "cell_type": "code",
   "execution_count": 1,
   "id": "28c720cf",
   "metadata": {},
   "outputs": [],
   "source": [
    "import numpy as np\n",
    "import pandas as pd\n",
    "import matplotlib.pyplot as plt\n",
    "import seaborn as sns\n",
    "import sklearn\n",
    "from sklearn.preprocessing import LabelEncoder\n",
    "%matplotlib inline\n",
    "from scipy import stats"
   ]
  },
  {
   "cell_type": "markdown",
   "id": "cb49312b",
   "metadata": {},
   "source": [
    "## Loading Files"
   ]
  },
  {
   "cell_type": "code",
   "execution_count": 2,
   "id": "5e2acaac",
   "metadata": {},
   "outputs": [],
   "source": [
    "df_train = pd.read_csv('train.csv')\n",
    "df_test = pd.read_csv('test.csv')"
   ]
  },
  {
   "cell_type": "code",
   "execution_count": 3,
   "id": "35879a01",
   "metadata": {},
   "outputs": [],
   "source": [
    "dfc = df_train.copy()"
   ]
  },
  {
   "cell_type": "code",
   "execution_count": 4,
   "id": "da78ee37",
   "metadata": {},
   "outputs": [
    {
     "data": {
      "text/html": [
       "<div>\n",
       "<style scoped>\n",
       "    .dataframe tbody tr th:only-of-type {\n",
       "        vertical-align: middle;\n",
       "    }\n",
       "\n",
       "    .dataframe tbody tr th {\n",
       "        vertical-align: top;\n",
       "    }\n",
       "\n",
       "    .dataframe thead th {\n",
       "        text-align: right;\n",
       "    }\n",
       "</style>\n",
       "<table border=\"1\" class=\"dataframe\">\n",
       "  <thead>\n",
       "    <tr style=\"text-align: right;\">\n",
       "      <th></th>\n",
       "      <th>season</th>\n",
       "      <th>date</th>\n",
       "      <th>league_id</th>\n",
       "      <th>league</th>\n",
       "      <th>Team 1</th>\n",
       "      <th>Team2</th>\n",
       "      <th>SPI1</th>\n",
       "      <th>SPI2</th>\n",
       "      <th>proj_score1</th>\n",
       "      <th>proj_score2</th>\n",
       "      <th>...</th>\n",
       "      <th>importance2</th>\n",
       "      <th>score1</th>\n",
       "      <th>score2</th>\n",
       "      <th>xg1</th>\n",
       "      <th>xg2</th>\n",
       "      <th>nsxg1</th>\n",
       "      <th>nsxg2</th>\n",
       "      <th>adj_score1</th>\n",
       "      <th>adj_score2</th>\n",
       "      <th>Outcome</th>\n",
       "    </tr>\n",
       "  </thead>\n",
       "  <tbody>\n",
       "    <tr>\n",
       "      <th>0</th>\n",
       "      <td>2019</td>\n",
       "      <td>01/03/19</td>\n",
       "      <td>1979</td>\n",
       "      <td>Chinese Super League</td>\n",
       "      <td>Shandong Luneng</td>\n",
       "      <td>Guizhou Renhe</td>\n",
       "      <td>48.22</td>\n",
       "      <td>37.83</td>\n",
       "      <td>1.75</td>\n",
       "      <td>0.84</td>\n",
       "      <td>...</td>\n",
       "      <td>22.1</td>\n",
       "      <td>1.0</td>\n",
       "      <td>0.0</td>\n",
       "      <td>1.39</td>\n",
       "      <td>0.26</td>\n",
       "      <td>2.05</td>\n",
       "      <td>0.54</td>\n",
       "      <td>1.05</td>\n",
       "      <td>0.00</td>\n",
       "      <td>1</td>\n",
       "    </tr>\n",
       "    <tr>\n",
       "      <th>1</th>\n",
       "      <td>2019</td>\n",
       "      <td>01/03/19</td>\n",
       "      <td>1979</td>\n",
       "      <td>Chinese Super League</td>\n",
       "      <td>Shanghai Greenland</td>\n",
       "      <td>Shanghai SIPG</td>\n",
       "      <td>39.81</td>\n",
       "      <td>60.08</td>\n",
       "      <td>1.22</td>\n",
       "      <td>1.89</td>\n",
       "      <td>...</td>\n",
       "      <td>63.4</td>\n",
       "      <td>0.0</td>\n",
       "      <td>4.0</td>\n",
       "      <td>0.57</td>\n",
       "      <td>2.76</td>\n",
       "      <td>0.80</td>\n",
       "      <td>1.50</td>\n",
       "      <td>0.00</td>\n",
       "      <td>3.26</td>\n",
       "      <td>0</td>\n",
       "    </tr>\n",
       "    <tr>\n",
       "      <th>2</th>\n",
       "      <td>2019</td>\n",
       "      <td>01/03/19</td>\n",
       "      <td>1979</td>\n",
       "      <td>Chinese Super League</td>\n",
       "      <td>Guangzhou Evergrande</td>\n",
       "      <td>Tianjin Quanujian</td>\n",
       "      <td>65.59</td>\n",
       "      <td>39.99</td>\n",
       "      <td>2.58</td>\n",
       "      <td>0.62</td>\n",
       "      <td>...</td>\n",
       "      <td>28.8</td>\n",
       "      <td>3.0</td>\n",
       "      <td>0.0</td>\n",
       "      <td>0.49</td>\n",
       "      <td>0.45</td>\n",
       "      <td>1.05</td>\n",
       "      <td>0.75</td>\n",
       "      <td>3.15</td>\n",
       "      <td>0.00</td>\n",
       "      <td>1</td>\n",
       "    </tr>\n",
       "    <tr>\n",
       "      <th>3</th>\n",
       "      <td>2019</td>\n",
       "      <td>01/03/19</td>\n",
       "      <td>1979</td>\n",
       "      <td>Chinese Super League</td>\n",
       "      <td>Wuhan Zall</td>\n",
       "      <td>Beijing Guoan</td>\n",
       "      <td>32.25</td>\n",
       "      <td>54.82</td>\n",
       "      <td>1.10</td>\n",
       "      <td>1.79</td>\n",
       "      <td>...</td>\n",
       "      <td>58.9</td>\n",
       "      <td>0.0</td>\n",
       "      <td>1.0</td>\n",
       "      <td>1.12</td>\n",
       "      <td>0.97</td>\n",
       "      <td>1.51</td>\n",
       "      <td>0.94</td>\n",
       "      <td>0.00</td>\n",
       "      <td>1.05</td>\n",
       "      <td>0</td>\n",
       "    </tr>\n",
       "  </tbody>\n",
       "</table>\n",
       "<p>4 rows × 21 columns</p>\n",
       "</div>"
      ],
      "text/plain": [
       "   season      date  league_id                league                Team 1  \\\n",
       "0    2019  01/03/19       1979  Chinese Super League       Shandong Luneng   \n",
       "1    2019  01/03/19       1979  Chinese Super League    Shanghai Greenland   \n",
       "2    2019  01/03/19       1979  Chinese Super League  Guangzhou Evergrande   \n",
       "3    2019  01/03/19       1979  Chinese Super League            Wuhan Zall   \n",
       "\n",
       "               Team2   SPI1   SPI2  proj_score1  proj_score2  ...  \\\n",
       "0      Guizhou Renhe  48.22  37.83         1.75         0.84  ...   \n",
       "1      Shanghai SIPG  39.81  60.08         1.22         1.89  ...   \n",
       "2  Tianjin Quanujian  65.59  39.99         2.58         0.62  ...   \n",
       "3      Beijing Guoan  32.25  54.82         1.10         1.79  ...   \n",
       "\n",
       "   importance2  score1  score2   xg1   xg2  nsxg1  nsxg2  adj_score1  \\\n",
       "0         22.1     1.0     0.0  1.39  0.26   2.05   0.54        1.05   \n",
       "1         63.4     0.0     4.0  0.57  2.76   0.80   1.50        0.00   \n",
       "2         28.8     3.0     0.0  0.49  0.45   1.05   0.75        3.15   \n",
       "3         58.9     0.0     1.0  1.12  0.97   1.51   0.94        0.00   \n",
       "\n",
       "   adj_score2  Outcome  \n",
       "0        0.00        1  \n",
       "1        3.26        0  \n",
       "2        0.00        1  \n",
       "3        1.05        0  \n",
       "\n",
       "[4 rows x 21 columns]"
      ]
     },
     "execution_count": 4,
     "metadata": {},
     "output_type": "execute_result"
    }
   ],
   "source": [
    "dfc.head(4)"
   ]
  },
  {
   "cell_type": "code",
   "execution_count": 5,
   "id": "a8bb9127",
   "metadata": {},
   "outputs": [
    {
     "data": {
      "text/plain": [
       "(7443, 21)"
      ]
     },
     "execution_count": 5,
     "metadata": {},
     "output_type": "execute_result"
    }
   ],
   "source": [
    "dfc.shape"
   ]
  },
  {
   "cell_type": "code",
   "execution_count": 6,
   "id": "e967f855",
   "metadata": {},
   "outputs": [
    {
     "data": {
      "text/plain": [
       "Index(['season', 'date', 'league_id', 'league', 'Team 1', 'Team2', 'SPI1',\n",
       "       'SPI2', 'proj_score1', 'proj_score2', 'importance1', 'importance2',\n",
       "       'score1', 'score2', 'xg1', 'xg2', 'nsxg1', 'nsxg2', 'adj_score1',\n",
       "       'adj_score2', 'Outcome'],\n",
       "      dtype='object')"
      ]
     },
     "execution_count": 6,
     "metadata": {},
     "output_type": "execute_result"
    }
   ],
   "source": [
    "dfc.columns"
   ]
  },
  {
   "cell_type": "markdown",
   "id": "482f7168",
   "metadata": {},
   "source": [
    "## About The Dataset\n",
    "\n",
    "* **season:**  year of league.\n",
    "* **date:**  On what date did the game fall? \n",
    "* **league_id:**  A code that represents the league that the game was played in.\n",
    "* **league:**  The human-readable name of the league.\n",
    "* **Team 1:**  One of the teams that played. \n",
    "* **Team2:**  The other team that played.\n",
    "* **SPI1:**  The \"soccer power index\" of team1. This is basically a measure of how good a team is. This is the value of the index at the time of the match, and changes over time.\n",
    "* **SPI2:**  The \"soccer power index\" of team2.\n",
    "* **proj_score1:**  Projected score of team1.The number of goals that each team would need to score to keep its offensive rating exactly the same as it was going into the match.\n",
    "* **proj_score2:**  Projected score of team2.\n",
    "* **importance1:**  This is a measure of the importance of the match for team1. There are certain matches that can be of greater or lesser importance for teams, depending on their standings. For example, if you are really close to being in 3rd place, but are currently in 4th, this may be a very important game for you.\n",
    "* **importance2:**  The importance of the match for team2. \n",
    "* **score1:**  The final score (the thing we will be trying to predict).\n",
    "* **score2:**  The final score of team2 (the other thing we’re trying to predict).\n",
    "* **xg1:**  Expected goals of team1. This is a measure of the expected number of goals based on the total number of shots, location of the shots, etc. for team1. If, for example, someone was in front of an open goal, and they sliced the ball, this would likely be counted as an expected goal, but of course would not be an actual goal.\n",
    "* **xg2:**  Expected goals of team2.\n",
    "* **nsxg1:**  Non-shot expected goals. This is a measure of the expected probability of a goal given the state of the field. For example, if the ball is intercepted directly in front of the goal, but a shot is not taken, then a small value will be added here. \n",
    "* **nsxg2:**  Non-shot expected goals for team2.\n",
    "* **adj_score1:**  This is the score given to team1 after the game is finished plus style points.\n",
    "* **adj_score2:**  Adjusted score for team2.\n",
    "* **outcome:** result of winning.If 1, team1 will win, if 0 team2 will win.\n"
   ]
  },
  {
   "cell_type": "code",
   "execution_count": 7,
   "id": "24bdb17a",
   "metadata": {},
   "outputs": [],
   "source": [
    "#Dropping duplicate rows (if present)\n",
    "dfc.drop_duplicates(inplace=True)"
   ]
  },
  {
   "cell_type": "code",
   "execution_count": 8,
   "id": "24e08944",
   "metadata": {},
   "outputs": [
    {
     "data": {
      "text/plain": [
       "(7443, 21)"
      ]
     },
     "execution_count": 8,
     "metadata": {},
     "output_type": "execute_result"
    }
   ],
   "source": [
    "dfc.shape"
   ]
  },
  {
   "cell_type": "markdown",
   "id": "df54ee1a",
   "metadata": {},
   "source": [
    "* There were no duplicate rows."
   ]
  },
  {
   "cell_type": "code",
   "execution_count": 9,
   "id": "7c7fe79a",
   "metadata": {},
   "outputs": [
    {
     "data": {
      "text/plain": [
       "season            0\n",
       "date              0\n",
       "league_id         0\n",
       "league            0\n",
       "Team 1            0\n",
       "Team2             0\n",
       "SPI1              0\n",
       "SPI2              0\n",
       "proj_score1       0\n",
       "proj_score2       0\n",
       "importance1    4916\n",
       "importance2    4916\n",
       "score1         4800\n",
       "score2         4800\n",
       "xg1            5728\n",
       "xg2            5728\n",
       "nsxg1          5728\n",
       "nsxg2          5728\n",
       "adj_score1     5728\n",
       "adj_score2     5728\n",
       "Outcome           0\n",
       "dtype: int64"
      ]
     },
     "execution_count": 9,
     "metadata": {},
     "output_type": "execute_result"
    }
   ],
   "source": [
    "dfc.isnull().sum()"
   ]
  },
  {
   "cell_type": "markdown",
   "id": "7fac8b3e",
   "metadata": {},
   "source": [
    "* we have a lot of missing values in several columns."
   ]
  },
  {
   "cell_type": "code",
   "execution_count": 10,
   "id": "cb2fa944",
   "metadata": {},
   "outputs": [
    {
     "data": {
      "text/html": [
       "<div>\n",
       "<style scoped>\n",
       "    .dataframe tbody tr th:only-of-type {\n",
       "        vertical-align: middle;\n",
       "    }\n",
       "\n",
       "    .dataframe tbody tr th {\n",
       "        vertical-align: top;\n",
       "    }\n",
       "\n",
       "    .dataframe thead th {\n",
       "        text-align: right;\n",
       "    }\n",
       "</style>\n",
       "<table border=\"1\" class=\"dataframe\">\n",
       "  <thead>\n",
       "    <tr style=\"text-align: right;\">\n",
       "      <th></th>\n",
       "      <th>season</th>\n",
       "      <th>league_id</th>\n",
       "      <th>SPI1</th>\n",
       "      <th>SPI2</th>\n",
       "      <th>proj_score1</th>\n",
       "      <th>proj_score2</th>\n",
       "      <th>importance1</th>\n",
       "      <th>importance2</th>\n",
       "      <th>score1</th>\n",
       "      <th>score2</th>\n",
       "      <th>xg1</th>\n",
       "      <th>xg2</th>\n",
       "      <th>nsxg1</th>\n",
       "      <th>nsxg2</th>\n",
       "      <th>adj_score1</th>\n",
       "      <th>adj_score2</th>\n",
       "      <th>Outcome</th>\n",
       "    </tr>\n",
       "  </thead>\n",
       "  <tbody>\n",
       "    <tr>\n",
       "      <th>count</th>\n",
       "      <td>7443.000000</td>\n",
       "      <td>7443.000000</td>\n",
       "      <td>7443.000000</td>\n",
       "      <td>7443.000000</td>\n",
       "      <td>7443.000000</td>\n",
       "      <td>7443.000000</td>\n",
       "      <td>2527.000000</td>\n",
       "      <td>2527.000000</td>\n",
       "      <td>2643.000000</td>\n",
       "      <td>2643.000000</td>\n",
       "      <td>1715.000000</td>\n",
       "      <td>1715.000000</td>\n",
       "      <td>1715.000000</td>\n",
       "      <td>1715.000000</td>\n",
       "      <td>1715.000000</td>\n",
       "      <td>1715.000000</td>\n",
       "      <td>7443.000000</td>\n",
       "    </tr>\n",
       "    <tr>\n",
       "      <th>mean</th>\n",
       "      <td>2020.846702</td>\n",
       "      <td>2264.435980</td>\n",
       "      <td>40.447416</td>\n",
       "      <td>40.486339</td>\n",
       "      <td>1.464127</td>\n",
       "      <td>1.204017</td>\n",
       "      <td>32.668421</td>\n",
       "      <td>31.957776</td>\n",
       "      <td>1.482785</td>\n",
       "      <td>1.196746</td>\n",
       "      <td>1.462035</td>\n",
       "      <td>1.169376</td>\n",
       "      <td>1.360292</td>\n",
       "      <td>1.108700</td>\n",
       "      <td>1.510140</td>\n",
       "      <td>1.230000</td>\n",
       "      <td>0.681177</td>\n",
       "    </tr>\n",
       "    <tr>\n",
       "      <th>std</th>\n",
       "      <td>0.440811</td>\n",
       "      <td>1033.343797</td>\n",
       "      <td>18.367631</td>\n",
       "      <td>18.356843</td>\n",
       "      <td>0.368777</td>\n",
       "      <td>0.365576</td>\n",
       "      <td>24.626346</td>\n",
       "      <td>24.536147</td>\n",
       "      <td>1.241164</td>\n",
       "      <td>1.109059</td>\n",
       "      <td>0.793232</td>\n",
       "      <td>0.709431</td>\n",
       "      <td>0.621730</td>\n",
       "      <td>0.561853</td>\n",
       "      <td>1.226182</td>\n",
       "      <td>1.106616</td>\n",
       "      <td>0.466052</td>\n",
       "    </tr>\n",
       "    <tr>\n",
       "      <th>min</th>\n",
       "      <td>2019.000000</td>\n",
       "      <td>1818.000000</td>\n",
       "      <td>4.710000</td>\n",
       "      <td>4.720000</td>\n",
       "      <td>0.430000</td>\n",
       "      <td>0.200000</td>\n",
       "      <td>0.000000</td>\n",
       "      <td>0.000000</td>\n",
       "      <td>0.000000</td>\n",
       "      <td>0.000000</td>\n",
       "      <td>0.060000</td>\n",
       "      <td>0.000000</td>\n",
       "      <td>0.060000</td>\n",
       "      <td>0.000000</td>\n",
       "      <td>0.000000</td>\n",
       "      <td>0.000000</td>\n",
       "      <td>0.000000</td>\n",
       "    </tr>\n",
       "    <tr>\n",
       "      <th>25%</th>\n",
       "      <td>2021.000000</td>\n",
       "      <td>1859.000000</td>\n",
       "      <td>28.010000</td>\n",
       "      <td>27.990000</td>\n",
       "      <td>1.220000</td>\n",
       "      <td>0.960000</td>\n",
       "      <td>16.450000</td>\n",
       "      <td>15.950000</td>\n",
       "      <td>1.000000</td>\n",
       "      <td>0.000000</td>\n",
       "      <td>0.880000</td>\n",
       "      <td>0.640000</td>\n",
       "      <td>0.900000</td>\n",
       "      <td>0.710000</td>\n",
       "      <td>1.050000</td>\n",
       "      <td>0.000000</td>\n",
       "      <td>0.000000</td>\n",
       "    </tr>\n",
       "    <tr>\n",
       "      <th>50%</th>\n",
       "      <td>2021.000000</td>\n",
       "      <td>1948.000000</td>\n",
       "      <td>38.260000</td>\n",
       "      <td>38.290000</td>\n",
       "      <td>1.410000</td>\n",
       "      <td>1.150000</td>\n",
       "      <td>25.200000</td>\n",
       "      <td>24.400000</td>\n",
       "      <td>1.000000</td>\n",
       "      <td>1.000000</td>\n",
       "      <td>1.350000</td>\n",
       "      <td>1.050000</td>\n",
       "      <td>1.290000</td>\n",
       "      <td>1.020000</td>\n",
       "      <td>1.050000</td>\n",
       "      <td>1.050000</td>\n",
       "      <td>1.000000</td>\n",
       "    </tr>\n",
       "    <tr>\n",
       "      <th>75%</th>\n",
       "      <td>2021.000000</td>\n",
       "      <td>2160.000000</td>\n",
       "      <td>52.160000</td>\n",
       "      <td>52.380000</td>\n",
       "      <td>1.660000</td>\n",
       "      <td>1.390000</td>\n",
       "      <td>42.500000</td>\n",
       "      <td>40.600000</td>\n",
       "      <td>2.000000</td>\n",
       "      <td>2.000000</td>\n",
       "      <td>1.915000</td>\n",
       "      <td>1.565000</td>\n",
       "      <td>1.700000</td>\n",
       "      <td>1.390000</td>\n",
       "      <td>2.100000</td>\n",
       "      <td>2.100000</td>\n",
       "      <td>1.000000</td>\n",
       "    </tr>\n",
       "    <tr>\n",
       "      <th>max</th>\n",
       "      <td>2021.000000</td>\n",
       "      <td>9541.000000</td>\n",
       "      <td>93.990000</td>\n",
       "      <td>94.740000</td>\n",
       "      <td>3.540000</td>\n",
       "      <td>3.200000</td>\n",
       "      <td>100.000000</td>\n",
       "      <td>100.000000</td>\n",
       "      <td>7.000000</td>\n",
       "      <td>6.000000</td>\n",
       "      <td>5.470000</td>\n",
       "      <td>4.670000</td>\n",
       "      <td>5.010000</td>\n",
       "      <td>4.620000</td>\n",
       "      <td>7.340000</td>\n",
       "      <td>6.110000</td>\n",
       "      <td>1.000000</td>\n",
       "    </tr>\n",
       "  </tbody>\n",
       "</table>\n",
       "</div>"
      ],
      "text/plain": [
       "            season    league_id         SPI1         SPI2  proj_score1  \\\n",
       "count  7443.000000  7443.000000  7443.000000  7443.000000  7443.000000   \n",
       "mean   2020.846702  2264.435980    40.447416    40.486339     1.464127   \n",
       "std       0.440811  1033.343797    18.367631    18.356843     0.368777   \n",
       "min    2019.000000  1818.000000     4.710000     4.720000     0.430000   \n",
       "25%    2021.000000  1859.000000    28.010000    27.990000     1.220000   \n",
       "50%    2021.000000  1948.000000    38.260000    38.290000     1.410000   \n",
       "75%    2021.000000  2160.000000    52.160000    52.380000     1.660000   \n",
       "max    2021.000000  9541.000000    93.990000    94.740000     3.540000   \n",
       "\n",
       "       proj_score2  importance1  importance2       score1       score2  \\\n",
       "count  7443.000000  2527.000000  2527.000000  2643.000000  2643.000000   \n",
       "mean      1.204017    32.668421    31.957776     1.482785     1.196746   \n",
       "std       0.365576    24.626346    24.536147     1.241164     1.109059   \n",
       "min       0.200000     0.000000     0.000000     0.000000     0.000000   \n",
       "25%       0.960000    16.450000    15.950000     1.000000     0.000000   \n",
       "50%       1.150000    25.200000    24.400000     1.000000     1.000000   \n",
       "75%       1.390000    42.500000    40.600000     2.000000     2.000000   \n",
       "max       3.200000   100.000000   100.000000     7.000000     6.000000   \n",
       "\n",
       "               xg1          xg2        nsxg1        nsxg2   adj_score1  \\\n",
       "count  1715.000000  1715.000000  1715.000000  1715.000000  1715.000000   \n",
       "mean      1.462035     1.169376     1.360292     1.108700     1.510140   \n",
       "std       0.793232     0.709431     0.621730     0.561853     1.226182   \n",
       "min       0.060000     0.000000     0.060000     0.000000     0.000000   \n",
       "25%       0.880000     0.640000     0.900000     0.710000     1.050000   \n",
       "50%       1.350000     1.050000     1.290000     1.020000     1.050000   \n",
       "75%       1.915000     1.565000     1.700000     1.390000     2.100000   \n",
       "max       5.470000     4.670000     5.010000     4.620000     7.340000   \n",
       "\n",
       "        adj_score2      Outcome  \n",
       "count  1715.000000  7443.000000  \n",
       "mean      1.230000     0.681177  \n",
       "std       1.106616     0.466052  \n",
       "min       0.000000     0.000000  \n",
       "25%       0.000000     0.000000  \n",
       "50%       1.050000     1.000000  \n",
       "75%       2.100000     1.000000  \n",
       "max       6.110000     1.000000  "
      ]
     },
     "execution_count": 10,
     "metadata": {},
     "output_type": "execute_result"
    }
   ],
   "source": [
    "dfc.describe()"
   ]
  },
  {
   "cell_type": "code",
   "execution_count": 11,
   "id": "d99c1ab0",
   "metadata": {},
   "outputs": [
    {
     "name": "stdout",
     "output_type": "stream",
     "text": [
      "Unique values in season are 3\n",
      "Unique values in date are 424\n",
      "Unique values in league_id are 39\n",
      "Unique values in league are 39\n",
      "Unique values in Team 1 are 657\n",
      "Unique values in Team2 are 657\n",
      "Unique values in SPI1 are 2516\n",
      "Unique values in SPI2 are 2514\n",
      "Unique values in proj_score1 are 248\n",
      "Unique values in proj_score2 are 242\n",
      "Unique values in importance1 are 702\n",
      "Unique values in importance2 are 701\n",
      "Unique values in score1 are 9\n",
      "Unique values in score2 are 8\n",
      "Unique values in xg1 are 334\n",
      "Unique values in xg2 are 306\n",
      "Unique values in nsxg1 are 286\n",
      "Unique values in nsxg2 are 254\n",
      "Unique values in adj_score1 are 150\n",
      "Unique values in adj_score2 are 105\n",
      "Unique values in Outcome are 2\n"
     ]
    }
   ],
   "source": [
    "for i in dfc.columns:\n",
    "    print('Unique values in {} are {}'.format(i,len(dfc[i].unique())))"
   ]
  },
  {
   "cell_type": "code",
   "execution_count": 12,
   "id": "7e79dec9",
   "metadata": {},
   "outputs": [
    {
     "data": {
      "text/plain": [
       "<AxesSubplot:>"
      ]
     },
     "execution_count": 12,
     "metadata": {},
     "output_type": "execute_result"
    },
    {
     "data": {
      "image/png": "[encoded data removed]",
      "text/plain": [
       "<Figure size 864x576 with 2 Axes>"
      ]
     },
     "metadata": {
      "needs_background": "light"
     },
     "output_type": "display_data"
    }
   ],
   "source": [
    "plt.figure(figsize=(12,8))\n",
    "mask =  np.triu(np.ones_like(dfc.corr()))\n",
    "sns.heatmap(dfc.corr(),mask=mask,annot=True,cmap='gist_ncar_r',linewidth=0.2)"
   ]
  },
  {
   "cell_type": "markdown",
   "id": "71b54d79",
   "metadata": {},
   "source": [
    "**INSIGHTS:**\n",
    "* score1 and score2 are highly correlated with adj_score1 and adj_score2 respectively.\n",
    "* SPI1 and SPI2 are also 74% correlated."
   ]
  },
  {
   "cell_type": "markdown",
   "id": "9b60410e",
   "metadata": {},
   "source": [
    "### Dropping unnecessary features\n",
    "\n",
    "1. 'score1' & 'score2' are the final scores which are something to be predicted based on other features so it cannot be the feature that will help us in prediction. So, I will remove it. \n",
    "2. 'xg' and 'nsxg' of a team are the features which cant be known before the game. This can be predicted during the game. So, I will remove these features.\n",
    "3. Also, SPI1 and SPI2 are 74% correlated so I will drop SPI1 (note: you can also drop SPI2 instead of SPI1).\n",
    "4. 'adj_score' features are highly correlated with 'score' so we will drop these as well.\n",
    "5. we will drop 'season', 'date','league' & 'league_id' because these are not contributing in the model building.\n",
    "6. Also the team names will not contribute in the model building so we will drop these columns as well.\n",
    "7. Also we will drop 'importance1' and 'importance2' features due to a lot of missing values(more than half of the given data)"
   ]
  },
  {
   "cell_type": "code",
   "execution_count": 13,
   "id": "4559e858",
   "metadata": {},
   "outputs": [],
   "source": [
    "dfc.drop(columns = ['season','date','league_id','league','Team 1','Team2','SPI1','importance1','importance2','score1','score2',\n",
    "                    'xg1','xg2','nsxg1','nsxg2','adj_score1','adj_score2'],inplace = True)"
   ]
  },
  {
   "cell_type": "code",
   "execution_count": 14,
   "id": "b47b3b51",
   "metadata": {},
   "outputs": [
    {
     "data": {
      "text/html": [
       "<div>\n",
       "<style scoped>\n",
       "    .dataframe tbody tr th:only-of-type {\n",
       "        vertical-align: middle;\n",
       "    }\n",
       "\n",
       "    .dataframe tbody tr th {\n",
       "        vertical-align: top;\n",
       "    }\n",
       "\n",
       "    .dataframe thead th {\n",
       "        text-align: right;\n",
       "    }\n",
       "</style>\n",
       "<table border=\"1\" class=\"dataframe\">\n",
       "  <thead>\n",
       "    <tr style=\"text-align: right;\">\n",
       "      <th></th>\n",
       "      <th>SPI2</th>\n",
       "      <th>proj_score1</th>\n",
       "      <th>proj_score2</th>\n",
       "      <th>Outcome</th>\n",
       "    </tr>\n",
       "  </thead>\n",
       "  <tbody>\n",
       "    <tr>\n",
       "      <th>0</th>\n",
       "      <td>37.83</td>\n",
       "      <td>1.75</td>\n",
       "      <td>0.84</td>\n",
       "      <td>1</td>\n",
       "    </tr>\n",
       "    <tr>\n",
       "      <th>1</th>\n",
       "      <td>60.08</td>\n",
       "      <td>1.22</td>\n",
       "      <td>1.89</td>\n",
       "      <td>0</td>\n",
       "    </tr>\n",
       "    <tr>\n",
       "      <th>2</th>\n",
       "      <td>39.99</td>\n",
       "      <td>2.58</td>\n",
       "      <td>0.62</td>\n",
       "      <td>1</td>\n",
       "    </tr>\n",
       "    <tr>\n",
       "      <th>3</th>\n",
       "      <td>54.82</td>\n",
       "      <td>1.10</td>\n",
       "      <td>1.79</td>\n",
       "      <td>0</td>\n",
       "    </tr>\n",
       "  </tbody>\n",
       "</table>\n",
       "</div>"
      ],
      "text/plain": [
       "    SPI2  proj_score1  proj_score2  Outcome\n",
       "0  37.83         1.75         0.84        1\n",
       "1  60.08         1.22         1.89        0\n",
       "2  39.99         2.58         0.62        1\n",
       "3  54.82         1.10         1.79        0"
      ]
     },
     "execution_count": 14,
     "metadata": {},
     "output_type": "execute_result"
    }
   ],
   "source": [
    "dfc.head(4)"
   ]
  },
  {
   "cell_type": "code",
   "execution_count": 15,
   "id": "260f6788",
   "metadata": {},
   "outputs": [
    {
     "name": "stderr",
     "output_type": "stream",
     "text": [
      "c:\\users\\chira\\appdata\\local\\programs\\python\\python39\\lib\\site-packages\\seaborn\\distributions.py:2557: FutureWarning: `distplot` is a deprecated function and will be removed in a future version. Please adapt your code to use either `displot` (a figure-level function with similar flexibility) or `histplot` (an axes-level function for histograms).\n",
      "  warnings.warn(msg, FutureWarning)\n",
      "c:\\users\\chira\\appdata\\local\\programs\\python\\python39\\lib\\site-packages\\seaborn\\distributions.py:2557: FutureWarning: `distplot` is a deprecated function and will be removed in a future version. Please adapt your code to use either `displot` (a figure-level function with similar flexibility) or `histplot` (an axes-level function for histograms).\n",
      "  warnings.warn(msg, FutureWarning)\n",
      "c:\\users\\chira\\appdata\\local\\programs\\python\\python39\\lib\\site-packages\\seaborn\\distributions.py:2557: FutureWarning: `distplot` is a deprecated function and will be removed in a future version. Please adapt your code to use either `displot` (a figure-level function with similar flexibility) or `histplot` (an axes-level function for histograms).\n",
      "  warnings.warn(msg, FutureWarning)\n",
      "c:\\users\\chira\\appdata\\local\\programs\\python\\python39\\lib\\site-packages\\seaborn\\distributions.py:2557: FutureWarning: `distplot` is a deprecated function and will be removed in a future version. Please adapt your code to use either `displot` (a figure-level function with similar flexibility) or `histplot` (an axes-level function for histograms).\n",
      "  warnings.warn(msg, FutureWarning)\n"
     ]
    },
    {
     "data": {
      "image/png": "[encoded data removed]",
      "text/plain": [
       "<Figure size 720x432 with 4 Axes>"
      ]
     },
     "metadata": {
      "needs_background": "light"
     },
     "output_type": "display_data"
    }
   ],
   "source": [
    "# visualizing distribution\n",
    "\n",
    "plt.figure(figsize=(10,6))\n",
    "for i, col in enumerate(dfc.columns):\n",
    "    if dfc[col].dtype != 'object':\n",
    "        ax = plt.subplot(2, 2, i+1)\n",
    "        sns.distplot(dfc[col], ax=ax)\n",
    "        plt.xlabel(col)\n",
    "        \n",
    "plt.show()"
   ]
  },
  {
   "cell_type": "code",
   "execution_count": 16,
   "id": "ec71e14f",
   "metadata": {},
   "outputs": [],
   "source": [
    "# Dropping duplicate rows if present after removing some features.\n",
    "dfc.drop_duplicates(inplace=True)"
   ]
  },
  {
   "cell_type": "code",
   "execution_count": 17,
   "id": "ddcc2081",
   "metadata": {},
   "outputs": [
    {
     "data": {
      "text/plain": [
       "(7375, 4)"
      ]
     },
     "execution_count": 17,
     "metadata": {},
     "output_type": "execute_result"
    }
   ],
   "source": [
    "dfc.shape"
   ]
  },
  {
   "cell_type": "markdown",
   "id": "cc1215a5",
   "metadata": {},
   "source": [
    "* Some of the duplicate rows are deleted."
   ]
  },
  {
   "cell_type": "markdown",
   "id": "7d4b00a8",
   "metadata": {},
   "source": [
    "## Feature Scaling"
   ]
  },
  {
   "cell_type": "code",
   "execution_count": 18,
   "id": "678cae20",
   "metadata": {},
   "outputs": [],
   "source": [
    "from sklearn.preprocessing import StandardScaler\n",
    "sd =StandardScaler()\n",
    "col_to_be_std = ['SPI2','proj_score1','proj_score2']\n",
    "dfc[col_to_be_std]= sd.fit_transform(dfc[col_to_be_std])"
   ]
  },
  {
   "cell_type": "code",
   "execution_count": 19,
   "id": "00b070d4",
   "metadata": {},
   "outputs": [
    {
     "data": {
      "text/html": [
       "<div>\n",
       "<style scoped>\n",
       "    .dataframe tbody tr th:only-of-type {\n",
       "        vertical-align: middle;\n",
       "    }\n",
       "\n",
       "    .dataframe tbody tr th {\n",
       "        vertical-align: top;\n",
       "    }\n",
       "\n",
       "    .dataframe thead th {\n",
       "        text-align: right;\n",
       "    }\n",
       "</style>\n",
       "<table border=\"1\" class=\"dataframe\">\n",
       "  <thead>\n",
       "    <tr style=\"text-align: right;\">\n",
       "      <th></th>\n",
       "      <th>SPI2</th>\n",
       "      <th>proj_score1</th>\n",
       "      <th>proj_score2</th>\n",
       "      <th>Outcome</th>\n",
       "    </tr>\n",
       "  </thead>\n",
       "  <tbody>\n",
       "    <tr>\n",
       "      <th>0</th>\n",
       "      <td>-0.153492</td>\n",
       "      <td>0.772555</td>\n",
       "      <td>-0.993817</td>\n",
       "      <td>1</td>\n",
       "    </tr>\n",
       "    <tr>\n",
       "      <th>1</th>\n",
       "      <td>1.061902</td>\n",
       "      <td>-0.661810</td>\n",
       "      <td>1.873742</td>\n",
       "      <td>0</td>\n",
       "    </tr>\n",
       "    <tr>\n",
       "      <th>2</th>\n",
       "      <td>-0.035503</td>\n",
       "      <td>3.018824</td>\n",
       "      <td>-1.594639</td>\n",
       "      <td>1</td>\n",
       "    </tr>\n",
       "    <tr>\n",
       "      <th>3</th>\n",
       "      <td>0.774577</td>\n",
       "      <td>-0.986571</td>\n",
       "      <td>1.600641</td>\n",
       "      <td>0</td>\n",
       "    </tr>\n",
       "  </tbody>\n",
       "</table>\n",
       "</div>"
      ],
      "text/plain": [
       "       SPI2  proj_score1  proj_score2  Outcome\n",
       "0 -0.153492     0.772555    -0.993817        1\n",
       "1  1.061902    -0.661810     1.873742        0\n",
       "2 -0.035503     3.018824    -1.594639        1\n",
       "3  0.774577    -0.986571     1.600641        0"
      ]
     },
     "execution_count": 19,
     "metadata": {},
     "output_type": "execute_result"
    }
   ],
   "source": [
    "# checking the transformed dataset\n",
    "dfc.head(4)"
   ]
  },
  {
   "cell_type": "markdown",
   "id": "0a6cc548",
   "metadata": {},
   "source": [
    "## Handling Test Data"
   ]
  },
  {
   "cell_type": "code",
   "execution_count": 20,
   "id": "adbd77b0",
   "metadata": {},
   "outputs": [],
   "source": [
    "dft = df_test.copy()"
   ]
  },
  {
   "cell_type": "code",
   "execution_count": 21,
   "id": "be3b82f0",
   "metadata": {},
   "outputs": [],
   "source": [
    "dft.drop(columns = ['season','date','league_id','league','Team 1','Team2','SPI1','importance1','importance2','score1','score2'\n",
    "                    ,'xg1','xg2','nsxg1','nsxg2','adj_score1','adj_score2'],inplace = True)"
   ]
  },
  {
   "cell_type": "code",
   "execution_count": 22,
   "id": "77c1587d",
   "metadata": {},
   "outputs": [],
   "source": [
    "col_to_be_std = ['SPI2','proj_score1','proj_score2']\n",
    "dft[col_to_be_std]= sd.fit_transform(dft[col_to_be_std])"
   ]
  },
  {
   "cell_type": "code",
   "execution_count": 23,
   "id": "8084dca1",
   "metadata": {},
   "outputs": [
    {
     "data": {
      "text/html": [
       "<div>\n",
       "<style scoped>\n",
       "    .dataframe tbody tr th:only-of-type {\n",
       "        vertical-align: middle;\n",
       "    }\n",
       "\n",
       "    .dataframe tbody tr th {\n",
       "        vertical-align: top;\n",
       "    }\n",
       "\n",
       "    .dataframe thead th {\n",
       "        text-align: right;\n",
       "    }\n",
       "</style>\n",
       "<table border=\"1\" class=\"dataframe\">\n",
       "  <thead>\n",
       "    <tr style=\"text-align: right;\">\n",
       "      <th></th>\n",
       "      <th>SPI2</th>\n",
       "      <th>proj_score1</th>\n",
       "      <th>proj_score2</th>\n",
       "    </tr>\n",
       "  </thead>\n",
       "  <tbody>\n",
       "    <tr>\n",
       "      <th>0</th>\n",
       "      <td>1.535373</td>\n",
       "      <td>0.600180</td>\n",
       "      <td>-0.098964</td>\n",
       "    </tr>\n",
       "    <tr>\n",
       "      <th>1</th>\n",
       "      <td>1.392656</td>\n",
       "      <td>-0.287251</td>\n",
       "      <td>-0.685927</td>\n",
       "    </tr>\n",
       "    <tr>\n",
       "      <th>2</th>\n",
       "      <td>1.407807</td>\n",
       "      <td>-0.758699</td>\n",
       "      <td>0.739555</td>\n",
       "    </tr>\n",
       "    <tr>\n",
       "      <th>3</th>\n",
       "      <td>1.779751</td>\n",
       "      <td>0.184196</td>\n",
       "      <td>0.599802</td>\n",
       "    </tr>\n",
       "    <tr>\n",
       "      <th>4</th>\n",
       "      <td>2.098421</td>\n",
       "      <td>-1.396540</td>\n",
       "      <td>1.941432</td>\n",
       "    </tr>\n",
       "    <tr>\n",
       "      <th>...</th>\n",
       "      <td>...</td>\n",
       "      <td>...</td>\n",
       "      <td>...</td>\n",
       "    </tr>\n",
       "    <tr>\n",
       "      <th>4003</th>\n",
       "      <td>0.267538</td>\n",
       "      <td>-0.148590</td>\n",
       "      <td>0.460049</td>\n",
       "    </tr>\n",
       "    <tr>\n",
       "      <th>4004</th>\n",
       "      <td>-0.445558</td>\n",
       "      <td>-0.786431</td>\n",
       "      <td>-0.126915</td>\n",
       "    </tr>\n",
       "    <tr>\n",
       "      <th>4005</th>\n",
       "      <td>-0.684072</td>\n",
       "      <td>-0.398180</td>\n",
       "      <td>-0.238717</td>\n",
       "    </tr>\n",
       "    <tr>\n",
       "      <th>4006</th>\n",
       "      <td>-0.602449</td>\n",
       "      <td>-0.342716</td>\n",
       "      <td>-0.993384</td>\n",
       "    </tr>\n",
       "    <tr>\n",
       "      <th>4007</th>\n",
       "      <td>-0.605871</td>\n",
       "      <td>-0.204055</td>\n",
       "      <td>-0.098964</td>\n",
       "    </tr>\n",
       "  </tbody>\n",
       "</table>\n",
       "<p>4008 rows × 3 columns</p>\n",
       "</div>"
      ],
      "text/plain": [
       "          SPI2  proj_score1  proj_score2\n",
       "0     1.535373     0.600180    -0.098964\n",
       "1     1.392656    -0.287251    -0.685927\n",
       "2     1.407807    -0.758699     0.739555\n",
       "3     1.779751     0.184196     0.599802\n",
       "4     2.098421    -1.396540     1.941432\n",
       "...        ...          ...          ...\n",
       "4003  0.267538    -0.148590     0.460049\n",
       "4004 -0.445558    -0.786431    -0.126915\n",
       "4005 -0.684072    -0.398180    -0.238717\n",
       "4006 -0.602449    -0.342716    -0.993384\n",
       "4007 -0.605871    -0.204055    -0.098964\n",
       "\n",
       "[4008 rows x 3 columns]"
      ]
     },
     "execution_count": 23,
     "metadata": {},
     "output_type": "execute_result"
    }
   ],
   "source": [
    "dft"
   ]
  },
  {
   "cell_type": "markdown",
   "id": "ff081471",
   "metadata": {},
   "source": [
    "## Training the model"
   ]
  },
  {
   "cell_type": "code",
   "execution_count": 24,
   "id": "6221b798",
   "metadata": {},
   "outputs": [],
   "source": [
    "x = dfc.drop('Outcome',axis=1)\n",
    "y = dfc['Outcome']\n",
    "from sklearn.model_selection import train_test_split\n",
    "x_train,x_test,y_train,y_test = train_test_split(x,y,test_size=0.3,random_state=0)"
   ]
  },
  {
   "cell_type": "markdown",
   "id": "e7dcd536",
   "metadata": {},
   "source": [
    "#### Logistic Regression"
   ]
  },
  {
   "cell_type": "code",
   "execution_count": 25,
   "id": "946f09d2",
   "metadata": {
    "scrolled": false
   },
   "outputs": [
    {
     "name": "stdout",
     "output_type": "stream",
     "text": [
      "Accuracy using Logistic Regression: 99.638\n"
     ]
    }
   ],
   "source": [
    "from sklearn.linear_model import LogisticRegression\n",
    "from sklearn import metrics\n",
    "logreg = LogisticRegression()\n",
    "logreg.fit(x_train, y_train)\n",
    "pred_log = logreg.predict(x_test)\n",
    "acc_log = round(metrics.accuracy_score(y_test,pred_log) * 100, 3)\n",
    "print('Accuracy using Logistic Regression:',acc_log)"
   ]
  },
  {
   "cell_type": "code",
   "execution_count": 26,
   "id": "2d3bbe96",
   "metadata": {},
   "outputs": [
    {
     "name": "stdout",
     "output_type": "stream",
     "text": [
      "0.12486028393190193\n"
     ]
    }
   ],
   "source": [
    "from sklearn.metrics import log_loss\n",
    "print(log_loss(y_test,pred_log))"
   ]
  },
  {
   "cell_type": "markdown",
   "id": "78f8aec2",
   "metadata": {},
   "source": [
    "#### Support Vector Classifier"
   ]
  },
  {
   "cell_type": "code",
   "execution_count": 27,
   "id": "2f14b61d",
   "metadata": {},
   "outputs": [
    {
     "name": "stdout",
     "output_type": "stream",
     "text": [
      "Accuracy using Support Vector Classifier: 99.367\n"
     ]
    }
   ],
   "source": [
    "from sklearn.svm import SVC, LinearSVC\n",
    "svc = SVC()\n",
    "svc.fit(x_train, y_train)\n",
    "pred_svc = svc.predict(x_test)\n",
    "acc_svc = round(metrics.accuracy_score(y_test,pred_svc) * 100, 3)\n",
    "print('Accuracy using Support Vector Classifier:',acc_svc)"
   ]
  },
  {
   "cell_type": "code",
   "execution_count": 28,
   "id": "2e4b0831",
   "metadata": {},
   "outputs": [
    {
     "name": "stdout",
     "output_type": "stream",
     "text": [
      "0.21850504523293443\n"
     ]
    }
   ],
   "source": [
    "print(log_loss(y_test,pred_svc))"
   ]
  },
  {
   "cell_type": "markdown",
   "id": "73a526ce",
   "metadata": {},
   "source": [
    "#### K Neighbour Classifier"
   ]
  },
  {
   "cell_type": "code",
   "execution_count": 29,
   "id": "a92acadf",
   "metadata": {},
   "outputs": [
    {
     "data": {
      "text/plain": [
       "Text(0, 0.5, 'accuracy_rate')"
      ]
     },
     "execution_count": 29,
     "metadata": {},
     "output_type": "execute_result"
    },
    {
     "data": {
      "image/png": "[encoded data removed]",
      "text/plain": [
       "<Figure size 432x288 with 1 Axes>"
      ]
     },
     "metadata": {
      "needs_background": "light"
     },
     "output_type": "display_data"
    }
   ],
   "source": [
    "from sklearn.neighbors import KNeighborsClassifier\n",
    "accuracy_rate = []\n",
    "from sklearn import metrics\n",
    "for i in range (1,30):\n",
    "    knn = KNeighborsClassifier(n_neighbors=i).fit(x_train,y_train)\n",
    "    pred_knn = knn.predict(x_test)\n",
    "    accuracy_rate.append(metrics.accuracy_score(y_test,pred_knn))\n",
    "\n",
    "plt.plot(range(1,30),accuracy_rate,'b-o')\n",
    "plt.xlabel('k')\n",
    "plt.ylabel('accuracy_rate')"
   ]
  },
  {
   "cell_type": "code",
   "execution_count": 30,
   "id": "27ca1c2a",
   "metadata": {},
   "outputs": [
    {
     "name": "stdout",
     "output_type": "stream",
     "text": [
      "Accuracy using K Neighbour Classifier: 98.961\n"
     ]
    }
   ],
   "source": [
    "knn = KNeighborsClassifier(n_neighbors = 15)\n",
    "knn.fit(x_train, y_train)\n",
    "pred_knn = knn.predict(x_test)\n",
    "acc_knn = round(metrics.accuracy_score(y_test,pred_knn) * 100, 3)\n",
    "print('Accuracy using K Neighbour Classifier:',acc_knn)"
   ]
  },
  {
   "cell_type": "code",
   "execution_count": 31,
   "id": "e51948cb",
   "metadata": {},
   "outputs": [
    {
     "name": "stdout",
     "output_type": "stream",
     "text": [
      "0.35897074191122474\n"
     ]
    }
   ],
   "source": [
    "print(log_loss(y_test,pred_knn))"
   ]
  },
  {
   "cell_type": "markdown",
   "id": "5f1c04c5",
   "metadata": {},
   "source": [
    "#### Decision Tree"
   ]
  },
  {
   "cell_type": "code",
   "execution_count": 32,
   "id": "1f735a8c",
   "metadata": {},
   "outputs": [
    {
     "name": "stdout",
     "output_type": "stream",
     "text": [
      "Accuracy using Decision Tree: 98.509\n"
     ]
    }
   ],
   "source": [
    "from sklearn.tree import DecisionTreeClassifier\n",
    "decision_tree = DecisionTreeClassifier()\n",
    "decision_tree.fit(x_train, y_train)\n",
    "pred_decision_tree = decision_tree.predict(x_test)\n",
    "acc_decision_tree  = round(metrics.accuracy_score(y_test,pred_decision_tree ) * 100, 3)\n",
    "print('Accuracy using Decision Tree:',acc_decision_tree )"
   ]
  },
  {
   "cell_type": "code",
   "execution_count": 33,
   "id": "891bb104",
   "metadata": {},
   "outputs": [
    {
     "name": "stdout",
     "output_type": "stream",
     "text": [
      "0.5150425739725336\n"
     ]
    }
   ],
   "source": [
    "print(log_loss(y_test,pred_decision_tree))"
   ]
  },
  {
   "cell_type": "markdown",
   "id": "abbe89bd",
   "metadata": {},
   "source": [
    "#### Random Forest"
   ]
  },
  {
   "cell_type": "code",
   "execution_count": 34,
   "id": "5d02fa45",
   "metadata": {},
   "outputs": [
    {
     "name": "stdout",
     "output_type": "stream",
     "text": [
      "Accuracy using Random Forest: 98.915\n"
     ]
    }
   ],
   "source": [
    "from sklearn.ensemble import RandomForestClassifier\n",
    "random_forest = RandomForestClassifier(n_estimators=70,random_state=0)\n",
    "random_forest.fit(x_train, y_train)\n",
    "pred_random_forest = random_forest.predict(x_test)\n",
    "acc_random_forest  = round(metrics.accuracy_score(y_test,pred_random_forest) * 100, 3)\n",
    "print('Accuracy using Random Forest:',acc_random_forest )"
   ]
  },
  {
   "cell_type": "code",
   "execution_count": 35,
   "id": "10ac695b",
   "metadata": {},
   "outputs": [
    {
     "name": "stdout",
     "output_type": "stream",
     "text": [
      "0.37457723861255793\n"
     ]
    }
   ],
   "source": [
    "print(log_loss(y_test,pred_random_forest))"
   ]
  },
  {
   "cell_type": "markdown",
   "id": "d271d52c",
   "metadata": {},
   "source": [
    "**Insight:**\n",
    "Logistic Regression has been found as the best among all the models with accuracy 99.638% and log loss as 0.124"
   ]
  },
  {
   "cell_type": "markdown",
   "id": "9d42f130",
   "metadata": {},
   "source": [
    "### Predictions on given test dataset"
   ]
  },
  {
   "cell_type": "code",
   "execution_count": 46,
   "id": "6c086b8b",
   "metadata": {},
   "outputs": [
    {
     "data": {
      "text/plain": [
       "(4008,)"
      ]
     },
     "execution_count": 46,
     "metadata": {},
     "output_type": "execute_result"
    }
   ],
   "source": [
    "predictions = logreg.predict(dft)\n",
    "predictions.shape"
   ]
  },
  {
   "cell_type": "code",
   "execution_count": 49,
   "id": "e44393ed",
   "metadata": {},
   "outputs": [],
   "source": [
    "submission = pd.read_csv('submission.csv')\n",
    "submission['Outcome'] = predictions"
   ]
  },
  {
   "cell_type": "code",
   "execution_count": 50,
   "id": "c2843192",
   "metadata": {},
   "outputs": [
    {
     "data": {
      "text/html": [
       "<div>\n",
       "<style scoped>\n",
       "    .dataframe tbody tr th:only-of-type {\n",
       "        vertical-align: middle;\n",
       "    }\n",
       "\n",
       "    .dataframe tbody tr th {\n",
       "        vertical-align: top;\n",
       "    }\n",
       "\n",
       "    .dataframe thead th {\n",
       "        text-align: right;\n",
       "    }\n",
       "</style>\n",
       "<table border=\"1\" class=\"dataframe\">\n",
       "  <thead>\n",
       "    <tr style=\"text-align: right;\">\n",
       "      <th></th>\n",
       "      <th>Outcome</th>\n",
       "    </tr>\n",
       "  </thead>\n",
       "  <tbody>\n",
       "    <tr>\n",
       "      <th>0</th>\n",
       "      <td>1</td>\n",
       "    </tr>\n",
       "    <tr>\n",
       "      <th>1</th>\n",
       "      <td>1</td>\n",
       "    </tr>\n",
       "    <tr>\n",
       "      <th>2</th>\n",
       "      <td>0</td>\n",
       "    </tr>\n",
       "    <tr>\n",
       "      <th>3</th>\n",
       "      <td>1</td>\n",
       "    </tr>\n",
       "    <tr>\n",
       "      <th>4</th>\n",
       "      <td>0</td>\n",
       "    </tr>\n",
       "    <tr>\n",
       "      <th>...</th>\n",
       "      <td>...</td>\n",
       "    </tr>\n",
       "    <tr>\n",
       "      <th>4003</th>\n",
       "      <td>1</td>\n",
       "    </tr>\n",
       "    <tr>\n",
       "      <th>4004</th>\n",
       "      <td>1</td>\n",
       "    </tr>\n",
       "    <tr>\n",
       "      <th>4005</th>\n",
       "      <td>1</td>\n",
       "    </tr>\n",
       "    <tr>\n",
       "      <th>4006</th>\n",
       "      <td>1</td>\n",
       "    </tr>\n",
       "    <tr>\n",
       "      <th>4007</th>\n",
       "      <td>1</td>\n",
       "    </tr>\n",
       "  </tbody>\n",
       "</table>\n",
       "<p>4008 rows × 1 columns</p>\n",
       "</div>"
      ],
      "text/plain": [
       "      Outcome\n",
       "0           1\n",
       "1           1\n",
       "2           0\n",
       "3           1\n",
       "4           0\n",
       "...       ...\n",
       "4003        1\n",
       "4004        1\n",
       "4005        1\n",
       "4006        1\n",
       "4007        1\n",
       "\n",
       "[4008 rows x 1 columns]"
      ]
     },
     "execution_count": 50,
     "metadata": {},
     "output_type": "execute_result"
    }
   ],
   "source": [
    "subm = pd.DataFrame(predictions,columns=[\"Outcome\"] )\n",
    "subm.to_csv('./submission.csv',index=False, header=True)\n",
    "submission"
   ]
  },
  {
   "cell_type": "code",
   "execution_count": null,
   "id": "492cf98c",
   "metadata": {},
   "outputs": [],
   "source": []
  }
 ],
 "metadata": {
  "kernelspec": {
   "display_name": "Python 3 (ipykernel)",
   "language": "python",
   "name": "python3"
  },
  "language_info": {
   "codemirror_mode": {
    "name": "ipython",
    "version": 3
   },
   "file_extension": ".py",
   "mimetype": "text/x-python",
   "name": "python",
   "nbconvert_exporter": "python",
   "pygments_lexer": "ipython3",
   "version": "3.9.6"
  }
 },
 "nbformat": 4,
 "nbformat_minor": 5
}
